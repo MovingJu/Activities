{
 "cells": [
  {
   "cell_type": "code",
   "execution_count": 1,
   "metadata": {},
   "outputs": [],
   "source": [
    "import pandas as pd"
   ]
  },
  {
   "cell_type": "code",
   "execution_count": 2,
   "metadata": {},
   "outputs": [],
   "source": [
    "df = pd.read_csv('data.csv')"
   ]
  },
  {
   "cell_type": "code",
   "execution_count": 3,
   "metadata": {},
   "outputs": [],
   "source": [
    "df1 = df.drop('total_amount', axis=1)\n",
    "df1 = df1.drop('date', axis=1)"
   ]
  },
  {
   "cell_type": "code",
   "execution_count": 4,
   "metadata": {},
   "outputs": [
    {
     "data": {
      "text/html": [
       "<div>\n",
       "<style scoped>\n",
       "    .dataframe tbody tr th:only-of-type {\n",
       "        vertical-align: middle;\n",
       "    }\n",
       "\n",
       "    .dataframe tbody tr th {\n",
       "        vertical-align: top;\n",
       "    }\n",
       "\n",
       "    .dataframe thead th {\n",
       "        text-align: right;\n",
       "    }\n",
       "</style>\n",
       "<table border=\"1\" class=\"dataframe\">\n",
       "  <thead>\n",
       "    <tr style=\"text-align: right;\">\n",
       "      <th></th>\n",
       "      <th>note</th>\n",
       "      <th>amount</th>\n",
       "    </tr>\n",
       "  </thead>\n",
       "  <tbody>\n",
       "    <tr>\n",
       "      <th>1</th>\n",
       "      <td>food</td>\n",
       "      <td>-500.0</td>\n",
       "    </tr>\n",
       "    <tr>\n",
       "      <th>2</th>\n",
       "      <td>transport</td>\n",
       "      <td>-1500.0</td>\n",
       "    </tr>\n",
       "    <tr>\n",
       "      <th>3</th>\n",
       "      <td>entertainment</td>\n",
       "      <td>-1200.0</td>\n",
       "    </tr>\n",
       "    <tr>\n",
       "      <th>4</th>\n",
       "      <td>shopping</td>\n",
       "      <td>-2000.0</td>\n",
       "    </tr>\n",
       "    <tr>\n",
       "      <th>5</th>\n",
       "      <td>food</td>\n",
       "      <td>-700.0</td>\n",
       "    </tr>\n",
       "    <tr>\n",
       "      <th>...</th>\n",
       "      <td>...</td>\n",
       "      <td>...</td>\n",
       "    </tr>\n",
       "    <tr>\n",
       "      <th>57</th>\n",
       "      <td>alba</td>\n",
       "      <td>14000.0</td>\n",
       "    </tr>\n",
       "    <tr>\n",
       "      <th>58</th>\n",
       "      <td>entertainment</td>\n",
       "      <td>-1200.0</td>\n",
       "    </tr>\n",
       "    <tr>\n",
       "      <th>59</th>\n",
       "      <td>transport</td>\n",
       "      <td>-1200.0</td>\n",
       "    </tr>\n",
       "    <tr>\n",
       "      <th>60</th>\n",
       "      <td>shopping</td>\n",
       "      <td>-1500.0</td>\n",
       "    </tr>\n",
       "    <tr>\n",
       "      <th>61</th>\n",
       "      <td>food</td>\n",
       "      <td>-700.0</td>\n",
       "    </tr>\n",
       "  </tbody>\n",
       "</table>\n",
       "<p>61 rows × 2 columns</p>\n",
       "</div>"
      ],
      "text/plain": [
       "             note   amount\n",
       "1            food   -500.0\n",
       "2       transport  -1500.0\n",
       "3   entertainment  -1200.0\n",
       "4        shopping  -2000.0\n",
       "5            food   -700.0\n",
       "..            ...      ...\n",
       "57           alba  14000.0\n",
       "58  entertainment  -1200.0\n",
       "59      transport  -1200.0\n",
       "60       shopping  -1500.0\n",
       "61           food   -700.0\n",
       "\n",
       "[61 rows x 2 columns]"
      ]
     },
     "execution_count": 4,
     "metadata": {},
     "output_type": "execute_result"
    }
   ],
   "source": [
    "df2 = df1.drop(0, axis=0)\n",
    "df2"
   ]
  },
  {
   "cell_type": "code",
   "execution_count": 5,
   "metadata": {},
   "outputs": [
    {
     "data": {
      "text/plain": [
       "{'alba', 'entertainment', 'food', 'rent', 'shopping', 'transport'}"
      ]
     },
     "execution_count": 5,
     "metadata": {},
     "output_type": "execute_result"
    }
   ],
   "source": [
    "set1 = set(df['note'])\n",
    "set1.remove('Initial A')\n",
    "set1"
   ]
  },
  {
   "cell_type": "code",
   "execution_count": 41,
   "metadata": {},
   "outputs": [
    {
     "name": "stdout",
     "output_type": "stream",
     "text": [
      "{'food': [], 'transport': [], 'entertainment': [], 'shopping': [], 'alba': [], 'rent': []}\n",
      "17\n"
     ]
    },
    {
     "data": {
      "text/plain": [
       "{'food': [500,\n",
       "  700,\n",
       "  700,\n",
       "  300,\n",
       "  600,\n",
       "  800,\n",
       "  400,\n",
       "  1000,\n",
       "  500,\n",
       "  700,\n",
       "  800,\n",
       "  500,\n",
       "  700,\n",
       "  600,\n",
       "  400,\n",
       "  800,\n",
       "  700],\n",
       " 'transport': [1500,\n",
       "  1000,\n",
       "  1200,\n",
       "  800,\n",
       "  1000,\n",
       "  500,\n",
       "  1200,\n",
       "  1000,\n",
       "  1200,\n",
       "  1000,\n",
       "  800,\n",
       "  1000,\n",
       "  1200,\n",
       "  0,\n",
       "  0,\n",
       "  0,\n",
       "  0],\n",
       " 'entertainment': [1200,\n",
       "  1500,\n",
       "  1000,\n",
       "  1500,\n",
       "  1500,\n",
       "  1000,\n",
       "  1000,\n",
       "  1500,\n",
       "  1200,\n",
       "  0,\n",
       "  0,\n",
       "  0,\n",
       "  0,\n",
       "  0,\n",
       "  0,\n",
       "  0,\n",
       "  0],\n",
       " 'shopping': [2000,\n",
       "  2500,\n",
       "  1500,\n",
       "  2500,\n",
       "  2000,\n",
       "  1500,\n",
       "  2000,\n",
       "  2500,\n",
       "  1500,\n",
       "  2000,\n",
       "  2500,\n",
       "  1500,\n",
       "  0,\n",
       "  0,\n",
       "  0,\n",
       "  0,\n",
       "  0],\n",
       " 'alba': [0, 0, 0, 0, 0, 0, 0, 0, 0, 0, 0, 0, 0, 0, 0, 0, 0],\n",
       " 'rent': [700, 0, 0, 0, 0, 0, 0, 0, 0, 0, 0, 0, 0, 0, 0, 0, 0]}"
      ]
     },
     "execution_count": 41,
     "metadata": {},
     "output_type": "execute_result"
    }
   ],
   "source": [
    "dic1 = {i:[] for i in list(df2['note'])}\n",
    "\n",
    "print(dic1)\n",
    "\n",
    "for idx, value in enumerate(list(df2['note'])):\n",
    "    if int(df2['amount'].iloc[idx]) <= 0:\n",
    "        dic1[value].append(0 - int(df2['amount'].iloc[idx]))\n",
    "    else:\n",
    "        # dic1[value].append(0 - int(df2['amount'].iloc[idx]))\n",
    "        pass\n",
    "\n",
    "\n",
    "k = int(0)\n",
    "for i in dic1.keys():\n",
    "    # print(len(dic1[i]))\n",
    "    if k < len(dic1[i]):\n",
    "        k = len(dic1[i])\n",
    "\n",
    "print(k)\n",
    "\n",
    "for i in dic1.keys():\n",
    "    for j in range(k):\n",
    "        try: \n",
    "            if dic1[i][j] != None:\n",
    "                continue\n",
    "            print('0')\n",
    "        except Exception:\n",
    "            dic1[i].append(0)\n",
    "\n",
    "\n",
    "dic1"
   ]
  },
  {
   "cell_type": "code",
   "execution_count": 42,
   "metadata": {},
   "outputs": [
    {
     "data": {
      "image/png": "[encoded data removed]",
      "text/plain": [
       "<Figure size 640x480 with 1 Axes>"
      ]
     },
     "metadata": {},
     "output_type": "display_data"
    }
   ],
   "source": [
    "import matplotlib.pyplot as plt\n",
    "\n",
    "fig, ax = plt.subplots()\n",
    "\n",
    "violin = ax.violinplot([dic1['food'], \n",
    "                        dic1['transport'], \n",
    "                        dic1['entertainment'], \n",
    "                        dic1['shopping']], \n",
    "                        positions=[2, 3, 4, 5],\n",
    "                        # showmeans=True,\n",
    "                        showextrema=True,\n",
    "                        quantiles=[[0.25, 0.75], [0.25, 0.75], [0.25, 0.75], [0.25, 0.75]])\n",
    "# ax.set_xticks(['food','transport','entertainment','shopping'])\n",
    "\n",
    "violin['bodies'][0].set_facecolor('blue')\n",
    "violin['bodies'][1].set_facecolor('red')\n",
    "violin['bodies'][2].set_facecolor('green')"
   ]
  },
  {
   "cell_type": "code",
   "execution_count": null,
   "metadata": {},
   "outputs": [],
   "source": []
  }
 ],
 "metadata": {
  "kernelspec": {
   "display_name": "venv",
   "language": "python",
   "name": "python3"
  },
  "language_info": {
   "codemirror_mode": {
    "name": "ipython",
    "version": 3
   },
   "file_extension": ".py",
   "mimetype": "text/x-python",
   "name": "python",
   "nbconvert_exporter": "python",
   "pygments_lexer": "ipython3",
   "version": "3.10.12"
  }
 },
 "nbformat": 4,
 "nbformat_minor": 2
}
