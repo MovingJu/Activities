{
 "cells": [
  {
   "cell_type": "code",
   "execution_count": 4,
   "metadata": {},
   "outputs": [],
   "source": [
    "import pandas as pd\n",
    "import matplotlib.pyplot as plt"
   ]
  },
  {
   "cell_type": "code",
   "execution_count": 5,
   "metadata": {},
   "outputs": [
    {
     "data": {
      "text/html": [
       "<div>\n",
       "<style scoped>\n",
       "    .dataframe tbody tr th:only-of-type {\n",
       "        vertical-align: middle;\n",
       "    }\n",
       "\n",
       "    .dataframe tbody tr th {\n",
       "        vertical-align: top;\n",
       "    }\n",
       "\n",
       "    .dataframe thead th {\n",
       "        text-align: right;\n",
       "    }\n",
       "</style>\n",
       "<table border=\"1\" class=\"dataframe\">\n",
       "  <thead>\n",
       "    <tr style=\"text-align: right;\">\n",
       "      <th></th>\n",
       "      <th>date</th>\n",
       "      <th>note</th>\n",
       "      <th>amount</th>\n",
       "      <th>total_amount</th>\n",
       "    </tr>\n",
       "  </thead>\n",
       "  <tbody>\n",
       "    <tr>\n",
       "      <th>0</th>\n",
       "      <td>2025-01-01/00:00;00</td>\n",
       "      <td>Initial A</td>\n",
       "      <td>NaN</td>\n",
       "      <td>1000000.0</td>\n",
       "    </tr>\n",
       "    <tr>\n",
       "      <th>1</th>\n",
       "      <td>2025-01-02/12:30;00</td>\n",
       "      <td>food</td>\n",
       "      <td>-500.0</td>\n",
       "      <td>999500.0</td>\n",
       "    </tr>\n",
       "    <tr>\n",
       "      <th>2</th>\n",
       "      <td>2025-01-03/14:15;20</td>\n",
       "      <td>transport</td>\n",
       "      <td>-1500.0</td>\n",
       "      <td>998000.0</td>\n",
       "    </tr>\n",
       "    <tr>\n",
       "      <th>3</th>\n",
       "      <td>2025-01-04/09:00;00</td>\n",
       "      <td>entertainment</td>\n",
       "      <td>-1200.0</td>\n",
       "      <td>996800.0</td>\n",
       "    </tr>\n",
       "    <tr>\n",
       "      <th>4</th>\n",
       "      <td>2025-01-05/08:45;10</td>\n",
       "      <td>shopping</td>\n",
       "      <td>-2000.0</td>\n",
       "      <td>996000.0</td>\n",
       "    </tr>\n",
       "    <tr>\n",
       "      <th>...</th>\n",
       "      <td>...</td>\n",
       "      <td>...</td>\n",
       "      <td>...</td>\n",
       "      <td>...</td>\n",
       "    </tr>\n",
       "    <tr>\n",
       "      <th>57</th>\n",
       "      <td>2025-02-25/09:00;00</td>\n",
       "      <td>alba</td>\n",
       "      <td>14000.0</td>\n",
       "      <td>1046800.0</td>\n",
       "    </tr>\n",
       "    <tr>\n",
       "      <th>58</th>\n",
       "      <td>2025-02-26/08:45;10</td>\n",
       "      <td>entertainment</td>\n",
       "      <td>-1200.0</td>\n",
       "      <td>1045600.0</td>\n",
       "    </tr>\n",
       "    <tr>\n",
       "      <th>59</th>\n",
       "      <td>2025-02-27/15:00;20</td>\n",
       "      <td>transport</td>\n",
       "      <td>-1200.0</td>\n",
       "      <td>1044400.0</td>\n",
       "    </tr>\n",
       "    <tr>\n",
       "      <th>60</th>\n",
       "      <td>2025-02-28/10:00;00</td>\n",
       "      <td>shopping</td>\n",
       "      <td>-1500.0</td>\n",
       "      <td>1042900.0</td>\n",
       "    </tr>\n",
       "    <tr>\n",
       "      <th>61</th>\n",
       "      <td>2025-02-29/09:30;50</td>\n",
       "      <td>food</td>\n",
       "      <td>-700.0</td>\n",
       "      <td>1042200.0</td>\n",
       "    </tr>\n",
       "  </tbody>\n",
       "</table>\n",
       "<p>62 rows × 4 columns</p>\n",
       "</div>"
      ],
      "text/plain": [
       "                   date           note   amount  total_amount\n",
       "0   2025-01-01/00:00;00      Initial A      NaN     1000000.0\n",
       "1   2025-01-02/12:30;00           food   -500.0      999500.0\n",
       "2   2025-01-03/14:15;20      transport  -1500.0      998000.0\n",
       "3   2025-01-04/09:00;00  entertainment  -1200.0      996800.0\n",
       "4   2025-01-05/08:45;10       shopping  -2000.0      996000.0\n",
       "..                  ...            ...      ...           ...\n",
       "57  2025-02-25/09:00;00           alba  14000.0     1046800.0\n",
       "58  2025-02-26/08:45;10  entertainment  -1200.0     1045600.0\n",
       "59  2025-02-27/15:00;20      transport  -1200.0     1044400.0\n",
       "60  2025-02-28/10:00;00       shopping  -1500.0     1042900.0\n",
       "61  2025-02-29/09:30;50           food   -700.0     1042200.0\n",
       "\n",
       "[62 rows x 4 columns]"
      ]
     },
     "execution_count": 5,
     "metadata": {},
     "output_type": "execute_result"
    }
   ],
   "source": [
    "df = pd.read_csv('data.csv')\n",
    "df"
   ]
  },
  {
   "cell_type": "code",
   "execution_count": 6,
   "metadata": {},
   "outputs": [
    {
     "data": {
      "text/html": [
       "<div>\n",
       "<style scoped>\n",
       "    .dataframe tbody tr th:only-of-type {\n",
       "        vertical-align: middle;\n",
       "    }\n",
       "\n",
       "    .dataframe tbody tr th {\n",
       "        vertical-align: top;\n",
       "    }\n",
       "\n",
       "    .dataframe thead th {\n",
       "        text-align: right;\n",
       "    }\n",
       "</style>\n",
       "<table border=\"1\" class=\"dataframe\">\n",
       "  <thead>\n",
       "    <tr style=\"text-align: right;\">\n",
       "      <th></th>\n",
       "      <th>amount</th>\n",
       "    </tr>\n",
       "  </thead>\n",
       "  <tbody>\n",
       "    <tr>\n",
       "      <th>1</th>\n",
       "      <td>-500.0</td>\n",
       "    </tr>\n",
       "    <tr>\n",
       "      <th>2</th>\n",
       "      <td>-1500.0</td>\n",
       "    </tr>\n",
       "    <tr>\n",
       "      <th>3</th>\n",
       "      <td>-1200.0</td>\n",
       "    </tr>\n",
       "    <tr>\n",
       "      <th>4</th>\n",
       "      <td>-2000.0</td>\n",
       "    </tr>\n",
       "    <tr>\n",
       "      <th>5</th>\n",
       "      <td>-700.0</td>\n",
       "    </tr>\n",
       "    <tr>\n",
       "      <th>...</th>\n",
       "      <td>...</td>\n",
       "    </tr>\n",
       "    <tr>\n",
       "      <th>57</th>\n",
       "      <td>14000.0</td>\n",
       "    </tr>\n",
       "    <tr>\n",
       "      <th>58</th>\n",
       "      <td>-1200.0</td>\n",
       "    </tr>\n",
       "    <tr>\n",
       "      <th>59</th>\n",
       "      <td>-1200.0</td>\n",
       "    </tr>\n",
       "    <tr>\n",
       "      <th>60</th>\n",
       "      <td>-1500.0</td>\n",
       "    </tr>\n",
       "    <tr>\n",
       "      <th>61</th>\n",
       "      <td>-700.0</td>\n",
       "    </tr>\n",
       "  </tbody>\n",
       "</table>\n",
       "<p>61 rows × 1 columns</p>\n",
       "</div>"
      ],
      "text/plain": [
       "     amount\n",
       "1    -500.0\n",
       "2   -1500.0\n",
       "3   -1200.0\n",
       "4   -2000.0\n",
       "5    -700.0\n",
       "..      ...\n",
       "57  14000.0\n",
       "58  -1200.0\n",
       "59  -1200.0\n",
       "60  -1500.0\n",
       "61   -700.0\n",
       "\n",
       "[61 rows x 1 columns]"
      ]
     },
     "execution_count": 6,
     "metadata": {},
     "output_type": "execute_result"
    }
   ],
   "source": [
    "df1 = df.drop('date', axis=1)\n",
    "df1 = df1.drop('note', axis=1)\n",
    "df1 = df1.drop('total_amount', axis=1)\n",
    "df1 = df1.drop(0, axis=0)\n",
    "df1"
   ]
  },
  {
   "cell_type": "code",
   "execution_count": 7,
   "metadata": {},
   "outputs": [
    {
     "name": "stdout",
     "output_type": "stream",
     "text": [
      "[15000.0, 10000.0, 12000.0, 8000.0, 12000.0, 8000.0, 10000.0, 12000.0, 14000.0] \n",
      " [-500.0, -1500.0, -1200.0, -2000.0, -700.0, -1000.0, -700.0, -1500.0, -1200.0, -2500.0, -300.0, -800.0, -600.0, -1000.0, -1500.0, -800.0, -1000.0, -400.0, -500.0, -2500.0, -1500.0, -1000.0, -2000.0, -1200.0, -500.0, -1500.0, -700.0, -700.0, -1000.0, -800.0, -1500.0, -2000.0, -1200.0, -500.0, -2500.0, -1000.0, -700.0, -1000.0, -1500.0, -600.0, -1000.0, -800.0, -2000.0, -400.0, -1500.0, -1000.0, -2500.0, -800.0, -1200.0, -1200.0, -1500.0, -700.0]\n"
     ]
    }
   ],
   "source": [
    "in_a = []\n",
    "out_a = []\n",
    "\n",
    "for _, val in enumerate(df['amount']):\n",
    "\n",
    "    if val >= 0:\n",
    "        in_a.append(val)\n",
    "\n",
    "    elif val < 0:\n",
    "        out_a.append(val)\n",
    "\n",
    "print(in_a, '\\n', out_a)"
   ]
  },
  {
   "cell_type": "code",
   "execution_count": 8,
   "metadata": {},
   "outputs": [],
   "source": [
    "def amount_separator(li):\n",
    "    thresholds = [300, 500, 700, 900, 1100, 1300, float('inf')]\n",
    "    ret_summed_li = []\n",
    "    ret_li = [[] for _ in thresholds]\n",
    "    \n",
    "    for val in li:\n",
    "        val = abs(val)\n",
    "        for i, threshold in enumerate(thresholds):\n",
    "            if val <= threshold:\n",
    "                ret_li[i].append(val)\n",
    "                break\n",
    "\n",
    "    for val in ret_li:\n",
    "        ret_summed_li.append(int(sum(val)))\n",
    "\n",
    "    return ret_summed_li\n"
   ]
  },
  {
   "cell_type": "code",
   "execution_count": 9,
   "metadata": {},
   "outputs": [
    {
     "data": {
      "text/plain": [
       "[300, 2800, 5400, 4000, 9000, 7200, 31500]"
      ]
     },
     "execution_count": 9,
     "metadata": {},
     "output_type": "execute_result"
    }
   ],
   "source": [
    "amount_separator(out_a)"
   ]
  },
  {
   "cell_type": "code",
   "execution_count": 45,
   "metadata": {},
   "outputs": [
    {
     "name": "stdout",
     "output_type": "stream",
     "text": [
      "[300, 2800, 5400, 4000, 9000, 7200, 31500] 31500 300\n"
     ]
    },
    {
     "data": {
      "image/png": "[encoded data removed]",
      "text/plain": [
       "<Figure size 1200x800 with 1 Axes>"
      ]
     },
     "metadata": {},
     "output_type": "display_data"
    }
   ],
   "source": [
    "xlist = ['0-300','301-500','501-700','701-900','901-1100','1101-1300','1301-']\n",
    "ylist = amount_separator(out_a)\n",
    "\n",
    "plt.figure(figsize=(12, 8))\n",
    "fig = plt.bar(xlist, ylist)\n",
    "plt.xlabel('amount range', fontsize=14)\n",
    "plt.ylabel('total amount', fontsize=14)\n",
    "plt.xticks(fontsize=12, rotation=45)\n",
    "plt.yticks(fontsize=12)\n",
    "\n",
    "for idx, rect in enumerate(fig):\n",
    "    plt.text(idx, rect.get_height() + 100, ylist[idx], \n",
    "             ha='center',\n",
    "             color='black',\n",
    "             fontsize=14)\n",
    "    \n",
    "j, k = 0, 1e10\n",
    "for i in amount_separator(out_a):\n",
    "    if j < i:\n",
    "        j = i\n",
    "    if k > i:\n",
    "        k = i\n",
    "\n",
    "plt.ylim(k, j)\n",
    "print(amount_separator(out_a), j, k)\n",
    "\n",
    "plt.show()"
   ]
  },
  {
   "cell_type": "code",
   "execution_count": null,
   "metadata": {},
   "outputs": [],
   "source": []
  }
 ],
 "metadata": {
  "kernelspec": {
   "display_name": "test_venv",
   "language": "python",
   "name": "python3"
  },
  "language_info": {
   "codemirror_mode": {
    "name": "ipython",
    "version": 3
   },
   "file_extension": ".py",
   "mimetype": "text/x-python",
   "name": "python",
   "nbconvert_exporter": "python",
   "pygments_lexer": "ipython3",
   "version": "3.10.12"
  }
 },
 "nbformat": 4,
 "nbformat_minor": 2
}
